{
 "cells": [
  {
   "cell_type": "markdown",
   "metadata": {},
   "source": [
    "<font color='blue'>The Preprocess Operations:</font> "
   ]
  },
  {
   "cell_type": "code",
   "execution_count": 2,
   "metadata": {},
   "outputs": [
    {
     "name": "stdout",
     "output_type": "stream",
     "text": [
      "The Number of Examples:  78377\n",
      "The Number of Features:  128\n"
     ]
    }
   ],
   "source": [
    "import numpy as np\n",
    "import pandas as pd\n",
    "from sklearn.utils import resample\n",
    "from sklearn.preprocessing import StandardScaler\n",
    "from sklearn.utils import resample\n",
    "from sklearn.model_selection import ShuffleSplit\n",
    "\n",
    "# Read Data and split them to Train and Test sets\n",
    "Xy = pd.read_csv(\"Data.csv\")\n",
    "\n",
    "#Generate a smaller resample of dataset\n",
    "#Xy = resample(Xy, n_samples=10000, random_state=0)\n",
    "\n",
    "#find out if there is any Inf value and then replcae them with NaN\n",
    "#print(np.where(X.values[738] >= np.finfo(np.float64).max)) \n",
    "Xy = Xy.replace([np.inf, -np.inf], -1) \n",
    "\n",
    "#Find out if there is any NaN in the dataframe and then remove it and reset the indexes \n",
    "#print(np.where(np.isnan(X))) \n",
    "Xy = Xy.dropna()\n",
    "Xy = Xy.reset_index(drop=True)\n",
    "\n",
    "#Separate examples and labels\n",
    "y = Xy['marker']\n",
    "X = Xy.drop(labels='marker', axis=1) #Removes the marker column from the dataframe\n",
    "print('The Number of Examples: ', X.shape[0])\n",
    "print('The Number of Features: ', X.shape[1])\n",
    "\n",
    "#create sclaed data\n",
    "scaler = StandardScaler()\n",
    "scaledX = scaler.fit_transform(X)\n",
    "scaledy = y\n",
    "\n",
    "#Create oversampled data\n",
    "attackClass = Xy[Xy['marker'] == 'Attack']  # separate classes\n",
    "noEvClass = Xy[Xy['marker'] == 'NoEvents']  # separate classes\n",
    "naturalClass = Xy[Xy['marker'] == 'Natural']  # separate classes\n",
    "oversampledNoEvClass = resample(noEvClass, replace=True, n_samples=attackClass.shape[0], random_state=27)\n",
    "overampledNaturalClass = resample(naturalClass, replace=True, n_samples=attackClass.shape[0], random_state=27)\n",
    "oversampledXy = pd.concat([pd.concat([attackClass, oversampledNoEvClass]), overampledNaturalClass])\n",
    "oversampledy = oversampledXy['marker']\n",
    "oversampledX = oversampledXy.drop(labels='marker', axis=1) #Removes the marker column from the dataframe\n",
    "\n",
    "#Create subsampled data\n",
    "attackClass = Xy[Xy['marker'] == 'Attack']  # separate classes\n",
    "noEvClass = Xy[Xy['marker'] == 'NoEvents']  # separate classes\n",
    "naturalClass = Xy[Xy['marker'] == 'Natural']  # separate classes\n",
    "subsamplesAttackClass = resample(attackClass, replace=True, n_samples=naturalClass.shape[0], random_state=27)\n",
    "subsampledXy = pd.concat([pd.concat([subsamplesAttackClass, noEvClass]), naturalClass])\n",
    "subsampledy = subsampledXy['marker']\n",
    "subsampledX = subsampledXy.drop(labels='marker', axis=1) #Removes the marker column from the dataframe\n",
    "\n",
    "#Create scaled oversampled data\n",
    "scaler = StandardScaler()\n",
    "scaledOversampledX = scaler.fit_transform(oversampledX)\n",
    "scaledOversampledy = oversampledy\n",
    "\n",
    "#Create scaled undersampled data\n",
    "scaler = StandardScaler()\n",
    "scaledSubsampledX = scaler.fit_transform(subsampledX)\n",
    "scaledSubsampledy = subsampledy\n",
    "\n",
    "#Model Initialization\n",
    "crossNumber = 2     #The number of folds in cross validation\n",
    "kFold = ShuffleSplit(n_splits=crossNumber, test_size=0.3, random_state=0) #the split methos in cross validation"
   ]
  },
  {
   "cell_type": "markdown",
   "metadata": {},
   "source": [
    "<font color='blue'>Using unscaled data and LinearSVC method:</font> "
   ]
  },
  {
   "cell_type": "code",
   "execution_count": 3,
   "metadata": {},
   "outputs": [
    {
     "name": "stderr",
     "output_type": "stream",
     "text": [
      "C:\\Users\\Mohammad\\Anaconda3\\lib\\site-packages\\sklearn\\svm\\base.py:929: ConvergenceWarning: Liblinear failed to converge, increase the number of iterations.\n",
      "  \"the number of iterations.\", ConvergenceWarning)\n"
     ]
    },
    {
     "name": "stdout",
     "output_type": "stream",
     "text": [
      "The Mean Fit Time:  70.06716465950012\n",
      "The Mean Score Time:  0.15159499645233154\n",
      "The averaged F1 Score:  0.2891562388117544\n"
     ]
    },
    {
     "name": "stderr",
     "output_type": "stream",
     "text": [
      "C:\\Users\\Mohammad\\Anaconda3\\lib\\site-packages\\sklearn\\svm\\base.py:929: ConvergenceWarning: Liblinear failed to converge, increase the number of iterations.\n",
      "  \"the number of iterations.\", ConvergenceWarning)\n"
     ]
    }
   ],
   "source": [
    "#Scenario 1\n",
    "from sklearn.svm import LinearSVC\n",
    "from sklearn.model_selection import cross_validate\n",
    "\n",
    "# Intitialization\n",
    "score1 = np.array([])\n",
    "\n",
    "#The Classifier\n",
    "Cl = LinearSVC()\n",
    "\n",
    "#Cross Validation\n",
    "output1 = cross_validate(Cl, X, y, cv=kFold, scoring='f1_macro', return_estimator=True)\n",
    "\n",
    "#Calculating the scores and show the results\n",
    "score1 = np.append(score1, output1['test_score'].mean())\n",
    "print('The Mean Fit Time: ', np.mean(output1['fit_time']))\n",
    "print('The Mean Score Time: ', np.mean(output1['score_time']))\n",
    "print('The averaged F1 Score: ', np.mean(output1['test_score']))"
   ]
  },
  {
   "cell_type": "markdown",
   "metadata": {},
   "source": [
    "<font color='blue'>SVC method, Scaled data:</font> "
   ]
  },
  {
   "cell_type": "code",
   "execution_count": 8,
   "metadata": {},
   "outputs": [
    {
     "name": "stderr",
     "output_type": "stream",
     "text": [
      "C:\\Users\\Mohammad\\Anaconda3\\lib\\site-packages\\sklearn\\svm\\base.py:929: ConvergenceWarning: Liblinear failed to converge, increase the number of iterations.\n",
      "  \"the number of iterations.\", ConvergenceWarning)\n"
     ]
    },
    {
     "name": "stdout",
     "output_type": "stream",
     "text": [
      "The Mean Fit Time:  74.0450439453125\n",
      "The Mean Score Time:  0.12564921379089355\n",
      "The averaged F1 Score:  0.3420262394687381\n"
     ]
    },
    {
     "name": "stderr",
     "output_type": "stream",
     "text": [
      "C:\\Users\\Mohammad\\Anaconda3\\lib\\site-packages\\sklearn\\svm\\base.py:929: ConvergenceWarning: Liblinear failed to converge, increase the number of iterations.\n",
      "  \"the number of iterations.\", ConvergenceWarning)\n"
     ]
    }
   ],
   "source": [
    "#Scenario 5\n",
    "from sklearn.svm import LinearSVC\n",
    "from sklearn.model_selection import cross_validate\n",
    "\n",
    "# Intitialization\n",
    "score5 = np.array([])\n",
    "\n",
    "#The Classifier\n",
    "Cl = LinearSVC()\n",
    "\n",
    "#Cross Validation\n",
    "output5 = cross_validate(Cl, scaledX, scaledy, cv=kFold, scoring='f1_macro', return_estimator=True)\n",
    "\n",
    "#Calculating the scores and show the results\n",
    "score5 = np.append(score5, output5['test_score'].mean())\n",
    "print('The Mean Fit Time: ', np.mean(output5['fit_time']))\n",
    "print('The Mean Score Time: ', np.mean(output5['score_time']))\n",
    "print('The averaged F1 Score: ', np.mean(output5['test_score']))"
   ]
  },
  {
   "cell_type": "markdown",
   "metadata": {},
   "source": [
    "<font color='blue'> SVC Method, Scaling, Feature Selection (L1 norm)</font>"
   ]
  },
  {
   "cell_type": "code",
   "execution_count": 5,
   "metadata": {},
   "outputs": [
    {
     "name": "stderr",
     "output_type": "stream",
     "text": [
      "C:\\Users\\Mohammad\\Anaconda3\\lib\\site-packages\\sklearn\\svm\\base.py:929: ConvergenceWarning: Liblinear failed to converge, increase the number of iterations.\n",
      "  \"the number of iterations.\", ConvergenceWarning)\n"
     ]
    },
    {
     "name": "stdout",
     "output_type": "stream",
     "text": [
      "\n",
      "The numer of features after feture sparsing:  93\n"
     ]
    },
    {
     "name": "stderr",
     "output_type": "stream",
     "text": [
      "C:\\Users\\Mohammad\\Anaconda3\\lib\\site-packages\\sklearn\\svm\\base.py:929: ConvergenceWarning: Liblinear failed to converge, increase the number of iterations.\n",
      "  \"the number of iterations.\", ConvergenceWarning)\n",
      "C:\\Users\\Mohammad\\Anaconda3\\lib\\site-packages\\sklearn\\svm\\base.py:929: ConvergenceWarning: Liblinear failed to converge, increase the number of iterations.\n",
      "  \"the number of iterations.\", ConvergenceWarning)\n"
     ]
    },
    {
     "name": "stdout",
     "output_type": "stream",
     "text": [
      "The Mean Fit Time:  38.61126625537872\n",
      "The Mean Score Time:  0.1904761791229248\n",
      "The averaged F1 Score:  0.33360959793919887\n"
     ]
    }
   ],
   "source": [
    "#Scenario 2\n",
    "from sklearn.svm import LinearSVC\n",
    "from sklearn.model_selection import cross_validate\n",
    "from sklearn.feature_selection import SelectFromModel\n",
    "from sklearn.svm import LinearSVC\n",
    "\n",
    "# Intitialization\n",
    "score2 = np.array([])\n",
    "\n",
    "#Feature Selection (Sparse Features)\n",
    "lsvc = LinearSVC(C=0.01, penalty=\"l1\", dual=False).fit(scaledX, scaledy)\n",
    "model = SelectFromModel(lsvc, prefit=True)\n",
    "fSelX = model.transform(scaledX)          #feature selected X\n",
    "fSely = scaledy\n",
    "print('\\nThe numer of features after feture sparsing: ',fSelX.shape[1])\n",
    "\n",
    "#The Classifier\n",
    "Cl = LinearSVC()\n",
    "\n",
    "#Cross Validation\n",
    "output2 = cross_validate(Cl, fSelX, fSely, cv=crossNumber, scoring='f1_macro', return_estimator=True)\n",
    "\n",
    "#Calculating the scores and show the results\n",
    "score2 = np.append(score2, output2['test_score'].mean())\n",
    "print('The Mean Fit Time: ', np.mean(output2['fit_time']))\n",
    "print('The Mean Score Time: ', np.mean(output2['score_time']))\n",
    "print('The averaged F1 Score: ', np.mean(output2['test_score']))"
   ]
  },
  {
   "cell_type": "markdown",
   "metadata": {},
   "source": [
    "<font color='blue'> SVC Method, Scaling, Feature Selection (L1 norm), Oversampling</font> "
   ]
  },
  {
   "cell_type": "code",
   "execution_count": 6,
   "metadata": {},
   "outputs": [
    {
     "name": "stderr",
     "output_type": "stream",
     "text": [
      "C:\\Users\\Mohammad\\Anaconda3\\lib\\site-packages\\sklearn\\svm\\base.py:929: ConvergenceWarning: Liblinear failed to converge, increase the number of iterations.\n",
      "  \"the number of iterations.\", ConvergenceWarning)\n"
     ]
    },
    {
     "name": "stdout",
     "output_type": "stream",
     "text": [
      "\n",
      "The numer of features after feture sparsing:  113\n"
     ]
    },
    {
     "name": "stderr",
     "output_type": "stream",
     "text": [
      "C:\\Users\\Mohammad\\Anaconda3\\lib\\site-packages\\sklearn\\svm\\base.py:929: ConvergenceWarning: Liblinear failed to converge, increase the number of iterations.\n",
      "  \"the number of iterations.\", ConvergenceWarning)\n",
      "C:\\Users\\Mohammad\\Anaconda3\\lib\\site-packages\\sklearn\\svm\\base.py:929: ConvergenceWarning: Liblinear failed to converge, increase the number of iterations.\n",
      "  \"the number of iterations.\", ConvergenceWarning)\n"
     ]
    },
    {
     "name": "stdout",
     "output_type": "stream",
     "text": [
      "The Mean Fit Time:  147.5778352022171\n",
      "The Mean Score Time:  0.29820311069488525\n",
      "The averaged F1 Score:  0.6490790556675607\n"
     ]
    }
   ],
   "source": [
    "#Scenario 3\n",
    "from sklearn.svm import LinearSVC\n",
    "from sklearn.model_selection import cross_validate\n",
    "from sklearn.feature_selection import SelectFromModel\n",
    "from sklearn.svm import LinearSVC\n",
    "\n",
    "# Intitialization\n",
    "score3 = np.array([])\n",
    "\n",
    "#Feature Selection (Sparse Features)\n",
    "lsvc = LinearSVC(C=0.01, penalty=\"l1\", dual=False).fit(scaledOversampledX, scaledOversampledy)\n",
    "model = SelectFromModel(lsvc, prefit=True)\n",
    "fSelX = model.transform(scaledOversampledX)          #feature selected X\n",
    "fSely = scaledOversampledy\n",
    "print('\\nThe numer of features after feture sparsing: ',fSelX.shape[1])\n",
    "\n",
    "#The Classifier\n",
    "Cl = LinearSVC()\n",
    "\n",
    "#Cross Validation\n",
    "output3 = cross_validate(Cl, fSelX, fSely, cv=kFold, scoring='f1_macro', return_estimator=True)\n",
    "\n",
    "#Calculating the scores and show the results\n",
    "score3 = np.append(score3, output3['test_score'].mean())\n",
    "print('The Mean Fit Time: ', np.mean(output3['fit_time']))\n",
    "print('The Mean Score Time: ', np.mean(output3['score_time']))\n",
    "print('The averaged F1 Score: ', np.mean(output3['test_score']))"
   ]
  },
  {
   "cell_type": "markdown",
   "metadata": {},
   "source": [
    "<font color='blue'> SVC Method, Scaling, Feature Selection (L1 norm), Weighted Classes:</font>"
   ]
  },
  {
   "cell_type": "code",
   "execution_count": 7,
   "metadata": {},
   "outputs": [
    {
     "name": "stderr",
     "output_type": "stream",
     "text": [
      "C:\\Users\\Mohammad\\Anaconda3\\lib\\site-packages\\sklearn\\svm\\base.py:929: ConvergenceWarning: Liblinear failed to converge, increase the number of iterations.\n",
      "  \"the number of iterations.\", ConvergenceWarning)\n"
     ]
    },
    {
     "name": "stdout",
     "output_type": "stream",
     "text": [
      "\n",
      "The numer of features after feture sparsing:  95\n"
     ]
    },
    {
     "name": "stderr",
     "output_type": "stream",
     "text": [
      "C:\\Users\\Mohammad\\Anaconda3\\lib\\site-packages\\sklearn\\svm\\base.py:929: ConvergenceWarning: Liblinear failed to converge, increase the number of iterations.\n",
      "  \"the number of iterations.\", ConvergenceWarning)\n"
     ]
    },
    {
     "name": "stdout",
     "output_type": "stream",
     "text": [
      "The Mean Fit Time:  51.11582028865814\n",
      "The Mean Score Time:  0.12466621398925781\n",
      "The averaged F1 Score:  0.5004434107702432\n"
     ]
    },
    {
     "name": "stderr",
     "output_type": "stream",
     "text": [
      "C:\\Users\\Mohammad\\Anaconda3\\lib\\site-packages\\sklearn\\svm\\base.py:929: ConvergenceWarning: Liblinear failed to converge, increase the number of iterations.\n",
      "  \"the number of iterations.\", ConvergenceWarning)\n"
     ]
    }
   ],
   "source": [
    "#Scenario 4\n",
    "from sklearn.svm import LinearSVC\n",
    "from sklearn.model_selection import cross_validate\n",
    "from sklearn.feature_selection import SelectFromModel\n",
    "from sklearn.svm import LinearSVC\n",
    "\n",
    "# Intitialization\n",
    "score4 = np.array([])\n",
    "\n",
    "#Feature Selection (Sparse Features)\n",
    "lsvc = LinearSVC(C=0.01, penalty=\"l1\", dual=False).fit(scaledX, scaledy)\n",
    "model = SelectFromModel(lsvc, prefit=True)\n",
    "fSelX = model.transform(scaledX)          #feature selected X\n",
    "fSely = scaledy\n",
    "print('\\nThe numer of features after feture sparsing: ',fSelX.shape[1])\n",
    "\n",
    "#The Classifier\n",
    "Cl = LinearSVC(class_weight='balanced')\n",
    "\n",
    "#Cross Validation\n",
    "output4 = cross_validate(Cl, fSelX, fSely, cv=kFold, scoring='f1_macro', return_estimator=True)\n",
    "\n",
    "#Calculating the scores and show the results\n",
    "score4 = np.append(score4, output4['test_score'].mean())\n",
    "print('The Mean Fit Time: ', np.mean(output4['fit_time']))\n",
    "print('The Mean Score Time: ', np.mean(output4['score_time']))\n",
    "print('The averaged F1 Score: ', np.mean(output4['test_score']))"
   ]
  },
  {
   "cell_type": "code",
   "execution_count": null,
   "metadata": {},
   "outputs": [],
   "source": []
  },
  {
   "cell_type": "code",
   "execution_count": null,
   "metadata": {},
   "outputs": [],
   "source": []
  }
 ],
 "metadata": {
  "kernelspec": {
   "display_name": "Python 3",
   "language": "python",
   "name": "python3"
  },
  "language_info": {
   "codemirror_mode": {
    "name": "ipython",
    "version": 3
   },
   "file_extension": ".py",
   "mimetype": "text/x-python",
   "name": "python",
   "nbconvert_exporter": "python",
   "pygments_lexer": "ipython3",
   "version": "3.8.5"
  }
 },
 "nbformat": 4,
 "nbformat_minor": 2
}
