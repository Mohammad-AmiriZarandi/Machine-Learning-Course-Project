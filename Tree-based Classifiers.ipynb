{
 "cells": [
  {
   "cell_type": "markdown",
   "metadata": {},
   "source": [
    "<font color='blue'>The Preprocess Operations:</font> \n"
   ]
  },
  {
   "cell_type": "code",
   "execution_count": 2,
   "metadata": {},
   "outputs": [
    {
     "name": "stdout",
     "output_type": "stream",
     "text": [
      "The Number of Examples:  78377\n",
      "The Number of Features:  128\n"
     ]
    }
   ],
   "source": [
    "import numpy as np\n",
    "import pandas as pd\n",
    "from sklearn.model_selection import ShuffleSplit\n",
    "\n",
    "# Read Data and split them to Train and Test sets\n",
    "Xy = pd.read_csv(\"Data.csv\")\n",
    "\n",
    "#Generate a smaller resample of dataset\n",
    "#Xy = resample(Xy, n_samples=80000, random_state=0)\n",
    "\n",
    "#find out if there is any Inf value and then replcae them with NaN\n",
    "#print(np.where(X.values[738] >= np.finfo(np.float64).max)) \n",
    "Xy = Xy.replace([np.inf, -np.inf], -1) \n",
    "\n",
    "#Find out if there is any NaN in the dataframe and then remove it and reset the indexes \n",
    "#print(np.where(np.isnan(X))) \n",
    "Xy = Xy.dropna()\n",
    "Xy = Xy.reset_index(drop=True)\n",
    "\n",
    "#Build data examples and labels\n",
    "y = Xy['marker']\n",
    "X = Xy.drop(labels='marker', axis=1) #Removes the marker column from the dataframe\n",
    "print('The Number of Examples: ', X.shape[0])\n",
    "print('The Number of Features: ', X.shape[1])\n",
    "\n",
    "#Model Intitilaization\n",
    "crossNumber = 2     #The number of folds in cross validation\n",
    "kFold = ShuffleSplit(n_splits=crossNumber, test_size=0.3, random_state=0) #the split methos in cross validation"
   ]
  },
  {
   "cell_type": "markdown",
   "metadata": {},
   "source": [
    "<font color='blue'>Using Decision Tree with no limitation on the depth:</font> \n"
   ]
  },
  {
   "cell_type": "code",
   "execution_count": 5,
   "metadata": {},
   "outputs": [
    {
     "name": "stdout",
     "output_type": "stream",
     "text": [
      "The Mean Fit Time:  6.741461157798767\n",
      "The Mean Score Time:  0.1486300230026245\n",
      "The averaged F1 Score:  0.8246595968502859\n",
      "The Trees Depth: \n",
      "41\n",
      "45\n"
     ]
    }
   ],
   "source": [
    "#Scenario 1\n",
    "from sklearn.tree import DecisionTreeClassifier\n",
    "import time\n",
    "from sklearn.model_selection import cross_validate\n",
    "\n",
    "\n",
    "# Intitialization\n",
    "score1 = np.array([])\n",
    "\n",
    "#The Classifier\n",
    "Cl = DecisionTreeClassifier()\n",
    "\n",
    "\n",
    "#Cross Validation\n",
    "output1 = cross_validate(Cl, X, y, cv=kFold, scoring='f1_macro', return_estimator=True)\n",
    "\n",
    "#Calculating the scores and show the results\n",
    "score1 = np.append(score1, output1['test_score'].mean())\n",
    "print('The Mean Fit Time: ', np.mean(output1['fit_time']))\n",
    "print('The Mean Score Time: ', np.mean(output1['score_time']))\n",
    "print('The averaged F1 Score: ', np.mean(output1['test_score']))\n",
    "\n",
    "#Show the depth decision trees in cross validation\n",
    "print('The Trees Depth: ')\n",
    "for i in np.arange(crossNumber):\n",
    "    estimator = output['estimator'][i]\n",
    "    print(estimator.get_depth())"
   ]
  },
  {
   "cell_type": "markdown",
   "metadata": {},
   "source": [
    "<font color='blue'>Using Random Forest in a relatively equal time to an individual decision tree: </font> "
   ]
  },
  {
   "cell_type": "code",
   "execution_count": 6,
   "metadata": {},
   "outputs": [
    {
     "name": "stdout",
     "output_type": "stream",
     "text": [
      "The depth for all tree is:  20  !!!\n",
      "\n",
      "The Mean Fit Time:  6.9125049114227295\n",
      "The Mean Score Time:  0.2478492259979248\n",
      "The averaged F1 Score:  0.846595664529857\n"
     ]
    }
   ],
   "source": [
    "#Scenario 2\n",
    "from sklearn.ensemble import RandomForestClassifier\n",
    "import time\n",
    "from sklearn.model_selection import cross_validate\n",
    "\n",
    "# Intitialization\n",
    "maxDepth = 20\n",
    "score2 = np.array([])\n",
    "\n",
    "#The Classifier\n",
    "Cl = RandomForestClassifier(n_estimators=20, max_depth=maxDepth)\n",
    "\n",
    "#Cross Validation\n",
    "output2 = cross_validate(Cl, X, y, cv=kFold, scoring='f1_macro', return_estimator=True)\n",
    "\n",
    "#Show the depth decision trees in cross validation that is a fixed value\n",
    "print('The depth for all tree is: ', maxDepth, ' !!!\\n')\n",
    "\n",
    "#Calculating the scores and show the results\n",
    "score2 = np.append(score2, output2['test_score'].mean())\n",
    "print('The Mean Fit Time: ', np.mean(output2['fit_time']))\n",
    "print('The Mean Score Time: ', np.mean(output2['score_time']))\n",
    "print('The averaged F1 Score: ', np.mean(output2['test_score']))"
   ]
  },
  {
   "cell_type": "markdown",
   "metadata": {},
   "source": [
    "<font color='blue'>Using another Random Forest in a relatively equal time to an individual decision tree: </font> "
   ]
  },
  {
   "cell_type": "code",
   "execution_count": 7,
   "metadata": {},
   "outputs": [
    {
     "name": "stdout",
     "output_type": "stream",
     "text": [
      "The Mean Fit Time:  5.737145662307739\n",
      "The Mean Score Time:  0.23290657997131348\n",
      "The averaged F1 Score:  0.8906274545671864\n",
      "The Trees Depth: \n",
      "The Depth of Trained Trees:  [45, 41, 36, 48, 36, 38, 38, 40, 43, 43, 48, 40, 46, 35, 41]\n",
      "The Depth of Trained Trees:  [38, 41, 41, 42, 51, 49, 46, 46, 45, 45, 41, 41, 39, 43, 42]\n"
     ]
    }
   ],
   "source": [
    "#Scenario 3\n",
    "from sklearn import metrics\n",
    "from sklearn.ensemble import RandomForestClassifier\n",
    "from sklearn.model_selection import cross_validate\n",
    "\n",
    "# Intitialization\n",
    "score3 = np.array([])\n",
    "\n",
    "#The Classifier\n",
    "Cl = RandomForestClassifier(n_estimators=15)\n",
    "\n",
    "#Cross Validation\n",
    "output3 = cross_validate(Cl, X, y, cv=kFold, scoring='f1_macro', return_estimator=True)\n",
    "\n",
    "#Calculating the scores and show the results\n",
    "score3 = np.append(score3, output3['test_score'].mean())\n",
    "print('The Mean Fit Time: ', np.mean(output3['fit_time']))\n",
    "print('The Mean Score Time: ', np.mean(output3['score_time']))\n",
    "print('The averaged F1 Score: ', np.mean(output3['test_score']))\n",
    "\n",
    "#show the depth for the different trees in the forest for all iteration in cross validation\n",
    "print('The Trees Depth: ')\n",
    "for i in np.arange(crossNumber):\n",
    "    forest = output3['estimator'][i]\n",
    "    print('The Depth of Trained Trees: ', [tree.get_depth() for tree in forest])"
   ]
  },
  {
   "cell_type": "markdown",
   "metadata": {},
   "source": [
    "<font color='blue'>Using Random Forest with no limitation on time and with 50 trees:</font> "
   ]
  },
  {
   "cell_type": "code",
   "execution_count": 8,
   "metadata": {},
   "outputs": [
    {
     "name": "stdout",
     "output_type": "stream",
     "text": [
      "The Mean Fit Time:  19.117899656295776\n",
      "The Mean Score Time:  0.44881772994995117\n",
      "The averaged F1 Score:  0.9011318684602215\n",
      "The Trees Depth: \n",
      "\n",
      "The Depth of Trained Trees:  [45, 48, 40, 40, 36, 43, 51, 47, 40, 40, 46, 48, 39, 45, 48, 42, 44, 42, 39, 38, 44, 49, 51, 55, 45, 49, 46, 53, 41, 45, 55, 49, 43, 51, 47, 38, 54, 43, 48, 45, 35, 40, 42, 48, 47, 50, 40, 36, 51, 48]\n",
      "\n",
      "The Depth of Trained Trees:  [48, 40, 38, 38, 44, 51, 43, 37, 50, 43, 43, 39, 45, 47, 36, 35, 42, 43, 46, 47, 45, 43, 44, 53, 45, 40, 39, 46, 41, 47, 42, 37, 47, 38, 37, 37, 59, 47, 40, 37, 49, 45, 45, 44, 41, 38, 52, 45, 45, 51]\n"
     ]
    }
   ],
   "source": [
    "#Scenario 4\n",
    "from sklearn import metrics\n",
    "from sklearn.ensemble import RandomForestClassifier\n",
    "from sklearn.model_selection import cross_validate\n",
    "\n",
    "# Intitialization\n",
    "score4 = np.array([])\n",
    "\n",
    "#The Classifier\n",
    "Cl = RandomForestClassifier(n_estimators=50)\n",
    "\n",
    "#Cross Validation\n",
    "output4 = cross_validate(Cl, X, y, cv=kFold, scoring='f1_macro', return_estimator=True)\n",
    "\n",
    "#Calculating the scores and show the results\n",
    "score4 = np.append(score4, output4['test_score'].mean())\n",
    "print('The Mean Fit Time: ', np.mean(output4['fit_time']))\n",
    "print('The Mean Score Time: ', np.mean(output4['score_time']))\n",
    "print('The averaged F1 Score: ', np.mean(output4['test_score']))\n",
    "\n",
    "#show the depth for the different trees in the forest for all iteration in cross validation\n",
    "print('The Trees Depth: ')\n",
    "for i in np.arange(crossNumber):\n",
    "    forest = output4['estimator'][i]\n",
    "    print('\\nThe Depth of Trained Trees: ', [tree.get_depth() for tree in forest])"
   ]
  },
  {
   "cell_type": "markdown",
   "metadata": {},
   "source": [
    "<font color='blue'>Using bagged decision tree with 10 estimator:</font> "
   ]
  },
  {
   "cell_type": "code",
   "execution_count": 9,
   "metadata": {},
   "outputs": [
    {
     "name": "stdout",
     "output_type": "stream",
     "text": [
      "The Mean Fit Time:  42.064077615737915\n",
      "The Mean Score Time:  0.4039057493209839\n",
      "The averaged F1 Score:  0.8640650381978688\n"
     ]
    }
   ],
   "source": [
    "#Scenario 5\n",
    "from sklearn import metrics\n",
    "from sklearn.tree import DecisionTreeClassifier\n",
    "from sklearn.ensemble import BaggingClassifier\n",
    "from sklearn.model_selection import cross_validate\n",
    "\n",
    "# Intitialization\n",
    "score5 = np.array([])\n",
    "\n",
    "#Base Estimator for bagging\n",
    "baseEst = DecisionTreeClassifier()                 \n",
    "\n",
    "#The Classifier\n",
    "Cl = BaggingClassifier(base_estimator=baseEst, n_estimators=10, random_state=0)\n",
    "\n",
    "#Cross Validation\n",
    "output5 = cross_validate(Cl, X, y, cv=kFold, scoring='f1_macro', return_estimator=True)\n",
    "\n",
    "#Calculating the scores and show the results\n",
    "score5 = np.append(score5, output5['test_score'].mean())\n",
    "print('The Mean Fit Time: ', np.mean(output5['fit_time']))\n",
    "print('The Mean Score Time: ', np.mean(output5['score_time']))\n",
    "print('The averaged F1 Score: ', np.mean(output5['test_score']))\n"
   ]
  },
  {
   "cell_type": "markdown",
   "metadata": {},
   "source": [
    "<font color='blue'>Using gradient Boosting:</font> "
   ]
  },
  {
   "cell_type": "code",
   "execution_count": 11,
   "metadata": {},
   "outputs": [
    {
     "name": "stdout",
     "output_type": "stream",
     "text": [
      "The Mean Fit Time:  51.581090092659\n",
      "The Mean Score Time:  0.24833595752716064\n",
      "The averaged F1 Score:  0.5665416446789161\n"
     ]
    }
   ],
   "source": [
    "#Scenario 6\n",
    "from sklearn import metrics\n",
    "from sklearn.ensemble import GradientBoostingClassifier\n",
    "from sklearn.model_selection import cross_validate\n",
    "\n",
    "# Intitialization\n",
    "score6 = np.array([])\n",
    "\n",
    "#The Classifier\n",
    "Cl = GradientBoostingClassifier(n_estimators=50,learning_rate=.2, random_state=10)\n",
    "\n",
    "#Cross Validation\n",
    "output6 = cross_validate(Cl, X, y, cv=kFold, scoring='f1_macro', return_estimator=True)\n",
    "\n",
    "#Calculating the scores and show the results\n",
    "score6 = np.append(score6, output6['test_score'].mean())\n",
    "print('The Mean Fit Time: ', np.mean(output6['fit_time']))\n",
    "print('The Mean Score Time: ', np.mean(output6['score_time']))\n",
    "print('The averaged F1 Score: ', np.mean(output6['test_score']))\n"
   ]
  },
  {
   "cell_type": "markdown",
   "metadata": {},
   "source": [
    "<font color='blue'>Using gradient Boosting with balanced data(Oversampled):</font> "
   ]
  },
  {
   "cell_type": "code",
   "execution_count": 12,
   "metadata": {},
   "outputs": [
    {
     "name": "stdout",
     "output_type": "stream",
     "text": [
      "The Number of Examples before subsampling:  78377\n",
      "The Number of Examples after subsampling:  166989\n",
      "The numer of features before feature sparsing:  128\n",
      "The Mean Fit Time:  114.4225744009018\n",
      "The Mean Score Time:  0.6497629880905151\n",
      "The averaged F1 Score:  0.7353971597489679\n"
     ]
    }
   ],
   "source": [
    "#Scenario 7\n",
    "from sklearn import metrics\n",
    "from sklearn.ensemble import GradientBoostingClassifier\n",
    "from sklearn.model_selection import cross_validate\n",
    "from sklearn.utils import resample\n",
    "\n",
    "# Intitialization\n",
    "score7 = np.array([])\n",
    "\n",
    "#Oversampling\n",
    "print('The Number of Examples before subsampling: ', Xy.shape[0])\n",
    "attackClass = Xy[Xy['marker'] == 'Attack']  # separate classes\n",
    "noEvClass = Xy[Xy['marker'] == 'NoEvents']  # separate classes\n",
    "naturalClass = Xy[Xy['marker'] == 'Natural']  # separate classes\n",
    "oversampledNoEvClass = resample(noEvClass, replace=True, n_samples=attackClass.shape[0], random_state=27)\n",
    "overampledNaturalClass = resample(naturalClass, replace=True, n_samples=attackClass.shape[0], random_state=27)\n",
    "balancedXy = pd.concat([pd.concat([attackClass, oversampledNoEvClass]), overampledNaturalClass])\n",
    "\n",
    "#Separating examples and labels\n",
    "balancedy = balancedXy['marker']\n",
    "balancedX = balancedXy.drop(labels='marker', axis=1) #Removes the marker column from the dataframe\n",
    "print('The Number of Examples after subsampling: ', balancedX.shape[0])\n",
    "print('The numer of features before feature sparsing: ', balancedX.shape[1])\n",
    "\n",
    "#The Classifier\n",
    "Cl = GradientBoostingClassifier(n_estimators=50,learning_rate=.2, random_state=10)\n",
    "\n",
    "#Cross Validation\n",
    "output7 = cross_validate(Cl, balancedX, balancedy, cv=kFold, scoring='f1_macro', return_estimator=True)\n",
    "\n",
    "#Calculating the scores and show the results\n",
    "score7 = np.append(score7, output7['test_score'].mean())\n",
    "print('The Mean Fit Time: ', np.mean(output7['fit_time']))\n",
    "print('The Mean Score Time: ', np.mean(output7['score_time']))\n",
    "print('The averaged F1 Score: ', np.mean(output7['test_score']))\n"
   ]
  },
  {
   "cell_type": "markdown",
   "metadata": {},
   "source": [
    "<font color='blue'>Using XGBoosting:</font> "
   ]
  },
  {
   "cell_type": "code",
   "execution_count": 13,
   "metadata": {},
   "outputs": [
    {
     "name": "stdout",
     "output_type": "stream",
     "text": [
      "The Mean Fit Time:  63.438902735710144\n",
      "The Mean Score Time:  0.3580129146575928\n",
      "The averaged F1 Score:  0.48430833257426587\n"
     ]
    }
   ],
   "source": [
    "#Scenario 8\n",
    "from sklearn import metrics\n",
    "from xgboost import XGBClassifier\n",
    "from sklearn.model_selection import cross_validate\n",
    "\n",
    "# Intitialization\n",
    "score8 = np.array([])\n",
    "\n",
    "#The Classifier\n",
    "Cl = XGBClassifier()\n",
    "\n",
    "#Cross Validation\n",
    "output8 = cross_validate(Cl, X, y, cv=kFold, scoring='f1_macro', return_estimator=True)\n",
    "\n",
    "#Calculating the scores and show the results\n",
    "score8 = np.append(score8, output8['test_score'].mean())\n",
    "print('The Mean Fit Time: ', np.mean(output8['fit_time']))\n",
    "print('The Mean Score Time: ', np.mean(output8['score_time']))\n",
    "print('The averaged F1 Score: ', np.mean(output8['test_score']))\n"
   ]
  },
  {
   "cell_type": "markdown",
   "metadata": {},
   "source": [
    "<font color='blue'>Using XGBoosting with balanced data(Oversampled):</font> "
   ]
  },
  {
   "cell_type": "code",
   "execution_count": 14,
   "metadata": {},
   "outputs": [
    {
     "name": "stdout",
     "output_type": "stream",
     "text": [
      "The Number of Examples before subsampling:  78377\n",
      "The Number of Examples after subsampling:  166989\n",
      "The numer of features before feature sparsing:  128\n",
      "The Mean Fit Time:  127.90454268455505\n",
      "The Mean Score Time:  0.801357626914978\n",
      "The averaged F1 Score:  0.7171601226643665\n"
     ]
    }
   ],
   "source": [
    "#Scenario 9\n",
    "from sklearn import metrics\n",
    "from xgboost import XGBClassifier\n",
    "from sklearn.model_selection import cross_validate\n",
    "\n",
    "# Intitialization\n",
    "score9 = np.array([])\n",
    "\n",
    "#Oversampling\n",
    "print('The Number of Examples before subsampling: ', Xy.shape[0])\n",
    "attackClass = Xy[Xy['marker'] == 'Attack']  # separate classes\n",
    "noEvClass = Xy[Xy['marker'] == 'NoEvents']  # separate classes\n",
    "naturalClass = Xy[Xy['marker'] == 'Natural']  # separate classes\n",
    "oversampledNoEvClass = resample(noEvClass, replace=True, n_samples=attackClass.shape[0], random_state=27)\n",
    "overampledNaturalClass = resample(naturalClass, replace=True, n_samples=attackClass.shape[0], random_state=27)\n",
    "balancedXy = pd.concat([pd.concat([attackClass, oversampledNoEvClass]), overampledNaturalClass])\n",
    "\n",
    "#Separating examples and labels\n",
    "balancedy = balancedXy['marker']\n",
    "balancedX = balancedXy.drop(labels='marker', axis=1) #Removes the marker column from the dataframe\n",
    "print('The Number of Examples after subsampling: ', balancedX.shape[0])\n",
    "print('The numer of features before feature sparsing: ', balancedX.shape[1])\n",
    "\n",
    "#The Classifier\n",
    "Cl = XGBClassifier()\n",
    "\n",
    "#Cross Validation\n",
    "output9 = cross_validate(Cl, balancedX, balancedy, cv=kFold, scoring='f1_macro', return_estimator=True)\n",
    "\n",
    "#Calculating the scores and show the results\n",
    "score9 = np.append(score9, output9['test_score'].mean())\n",
    "print('The Mean Fit Time: ', np.mean(output9['fit_time']))\n",
    "print('The Mean Score Time: ', np.mean(output9['score_time']))\n",
    "print('The averaged F1 Score: ', np.mean(output9['test_score']))\n"
   ]
  },
  {
   "cell_type": "markdown",
   "metadata": {},
   "source": [
    "<font color='blue'>Using Adaptive Boosting:</font> "
   ]
  },
  {
   "cell_type": "code",
   "execution_count": 15,
   "metadata": {},
   "outputs": [
    {
     "name": "stderr",
     "output_type": "stream",
     "text": [
      "C:\\Users\\Mohammad\\Anaconda3\\lib\\site-packages\\sklearn\\metrics\\classification.py:1437: UndefinedMetricWarning: F-score is ill-defined and being set to 0.0 in labels with no predicted samples.\n",
      "  'precision', 'predicted', average, warn_for)\n"
     ]
    },
    {
     "name": "stdout",
     "output_type": "stream",
     "text": [
      "The Mean Fit Time:  25.980069160461426\n",
      "The Mean Score Time:  0.8192785978317261\n",
      "The averaged F1 Score:  0.443208249776626\n"
     ]
    }
   ],
   "source": [
    "#Scenario 10\n",
    "from sklearn import metrics\n",
    "from sklearn.ensemble import AdaBoostClassifier\n",
    "from sklearn.model_selection import cross_validate\n",
    "\n",
    "# Intitialization\n",
    "score10 = np.array([])\n",
    "\n",
    "#The Classifier\n",
    "Cl = AdaBoostClassifier()\n",
    "\n",
    "#Cross Validation\n",
    "output10 = cross_validate(Cl, X, y, cv=kFold, scoring='f1_macro', return_estimator=True)\n",
    "\n",
    "#Calculating the scores and show the results\n",
    "score10 = np.append(score10, output10['test_score'].mean())\n",
    "print('The Mean Fit Time: ', np.mean(output10['fit_time']))\n",
    "print('The Mean Score Time: ', np.mean(output10['score_time']))\n",
    "print('The averaged F1 Score: ', np.mean(output10['test_score']))\n"
   ]
  },
  {
   "cell_type": "markdown",
   "metadata": {},
   "source": [
    "<font color='blue'>Using Adaptive Boosting with balanced data(Oversampled):</font> "
   ]
  },
  {
   "cell_type": "code",
   "execution_count": 16,
   "metadata": {},
   "outputs": [
    {
     "name": "stdout",
     "output_type": "stream",
     "text": [
      "The Number of Examples before subsampling:  78377\n",
      "The Number of Examples after subsampling:  166989\n",
      "The numer of features before feature sparsing:  128\n",
      "The Mean Fit Time:  50.68048572540283\n",
      "The Mean Score Time:  1.7208991050720215\n",
      "The averaged F1 Score:  0.6147844818381878\n"
     ]
    }
   ],
   "source": [
    "#Scenario 11\n",
    "from sklearn import metrics\n",
    "from sklearn.ensemble import AdaBoostClassifier\n",
    "from sklearn.model_selection import cross_validate\n",
    "\n",
    "# Intitialization\n",
    "score11 = np.array([])\n",
    "\n",
    "#Oversampling\n",
    "print('The Number of Examples before subsampling: ', Xy.shape[0])\n",
    "attackClass = Xy[Xy['marker'] == 'Attack']  # separate classes\n",
    "noEvClass = Xy[Xy['marker'] == 'NoEvents']  # separate classes\n",
    "naturalClass = Xy[Xy['marker'] == 'Natural']  # separate classes\n",
    "oversampledNoEvClass = resample(noEvClass, replace=True, n_samples=attackClass.shape[0], random_state=27)\n",
    "overampledNaturalClass = resample(naturalClass, replace=True, n_samples=attackClass.shape[0], random_state=27)\n",
    "balancedXy = pd.concat([pd.concat([attackClass, oversampledNoEvClass]), overampledNaturalClass])\n",
    "\n",
    "#Separating examples and labels\n",
    "balancedy = balancedXy['marker']\n",
    "balancedX = balancedXy.drop(labels='marker', axis=1) #Removes the marker column from the dataframe\n",
    "print('The Number of Examples after subsampling: ', balancedX.shape[0])\n",
    "print('The numer of features before feature sparsing: ', balancedX.shape[1])\n",
    "\n",
    "#The Classifier\n",
    "Cl = AdaBoostClassifier()\n",
    "\n",
    "#Cross Validation\n",
    "output11 = cross_validate(Cl, balancedX, balancedy, cv=kFold, scoring='f1_macro', return_estimator=True)\n",
    "\n",
    "#Calculating the scores and show the results\n",
    "score11 = np.append(score11, output11['test_score'].mean())\n",
    "print('The Mean Fit Time: ', np.mean(output11['fit_time']))\n",
    "print('The Mean Score Time: ', np.mean(output11['score_time']))\n",
    "print('The averaged F1 Score: ', np.mean(output11['test_score']))"
   ]
  },
  {
   "cell_type": "markdown",
   "metadata": {},
   "source": [
    "<font color='blue'>Plot of F-score for different numbers of trees in Random Forest</font> "
   ]
  },
  {
   "cell_type": "code",
   "execution_count": 10,
   "metadata": {},
   "outputs": [
    {
     "name": "stdout",
     "output_type": "stream",
     "text": [
      "The Number of Trees:  10\n",
      "The Mean Fit Time:  3.8197771310806274\n",
      "The Mean Score Time:  0.19148898124694824\n",
      "The averaged F1 Score:  0.8776144661849912\n",
      "The Number of Trees:  20\n",
      "The Mean Fit Time:  7.518882989883423\n",
      "The Mean Score Time:  0.25633084774017334\n",
      "The averaged F1 Score:  0.8901532005646806\n",
      "The Number of Trees:  30\n",
      "The Mean Fit Time:  11.032491207122803\n",
      "The Mean Score Time:  0.30568814277648926\n",
      "The averaged F1 Score:  0.8950791017860567\n",
      "The Number of Trees:  40\n",
      "The Mean Fit Time:  14.75216794013977\n",
      "The Mean Score Time:  0.38597965240478516\n",
      "The averaged F1 Score:  0.9008118294121452\n",
      "The Number of Trees:  50\n",
      "The Mean Fit Time:  18.087135910987854\n",
      "The Mean Score Time:  0.41935694217681885\n",
      "The averaged F1 Score:  0.9003858867958895\n",
      "The Number of Trees:  60\n",
      "The Mean Fit Time:  22.015617966651917\n",
      "The Mean Score Time:  0.47870779037475586\n",
      "The averaged F1 Score:  0.9033332596192147\n",
      "The Number of Trees:  70\n",
      "The Mean Fit Time:  25.44590175151825\n",
      "The Mean Score Time:  0.5420657396316528\n",
      "The averaged F1 Score:  0.9036555662871029\n",
      "The Number of Trees:  80\n",
      "The Mean Fit Time:  28.99790608882904\n",
      "The Mean Score Time:  0.6033695936203003\n",
      "The averaged F1 Score:  0.9021379380917806\n",
      "The Number of Trees:  90\n",
      "The Mean Fit Time:  32.85923230648041\n",
      "The Mean Score Time:  0.6597168445587158\n",
      "The averaged F1 Score:  0.9041809006309856\n",
      "The Number of Trees:  100\n",
      "The Mean Fit Time:  36.038626074790955\n",
      "The Mean Score Time:  0.7016075849533081\n",
      "The averaged F1 Score:  0.904184894489791\n",
      "The Number of Trees:  110\n",
      "The Mean Fit Time:  40.05489540100098\n",
      "The Mean Score Time:  0.7734348773956299\n",
      "The averaged F1 Score:  0.9049823751494951\n",
      "The Number of Trees:  120\n",
      "The Mean Fit Time:  44.1274037361145\n",
      "The Mean Score Time:  0.8652015924453735\n",
      "The averaged F1 Score:  0.9031858222193669\n",
      "The Number of Trees:  130\n",
      "The Mean Fit Time:  47.89347279071808\n",
      "The Mean Score Time:  0.8991096019744873\n",
      "The averaged F1 Score:  0.9041960559601048\n",
      "The Number of Trees:  140\n",
      "The Mean Fit Time:  51.05443632602692\n",
      "The Mean Score Time:  0.9384887218475342\n",
      "The averaged F1 Score:  0.9040222386962671\n",
      "The Number of Trees:  150\n",
      "The Mean Fit Time:  53.6823650598526\n",
      "The Mean Score Time:  0.9843956232070923\n",
      "The averaged F1 Score:  0.9039570247307218\n",
      "The Number of Trees:  160\n",
      "The Mean Fit Time:  57.841742157936096\n",
      "The Mean Score Time:  1.0531985759735107\n",
      "The averaged F1 Score:  0.904638281018237\n",
      "The Number of Trees:  170\n",
      "The Mean Fit Time:  61.49799311161041\n",
      "The Mean Score Time:  1.1115649938583374\n",
      "The averaged F1 Score:  0.9044393708969528\n",
      "The Number of Trees:  180\n",
      "The Mean Fit Time:  64.49644565582275\n",
      "The Mean Score Time:  1.1564189195632935\n",
      "The averaged F1 Score:  0.9043455557598656\n",
      "The Number of Trees:  190\n",
      "The Mean Fit Time:  68.50167441368103\n",
      "The Mean Score Time:  1.248172640800476\n",
      "The averaged F1 Score:  0.9045054844767018\n",
      "The Number of Trees:  200\n",
      "The Mean Fit Time:  71.33665871620178\n",
      "The Mean Score Time:  1.2675786018371582\n",
      "The averaged F1 Score:  0.9042419211923844\n"
     ]
    },
    {
     "data": {
      "image/png": "[encoded data removed]",
      "text/plain": [
       "<Figure size 432x288 with 1 Axes>"
      ]
     },
     "metadata": {
      "needs_background": "light"
     },
     "output_type": "display_data"
    }
   ],
   "source": [
    "#Scenario 12\n",
    "from sklearn import metrics\n",
    "from sklearn.ensemble import RandomForestClassifier\n",
    "from sklearn.model_selection import cross_validate\n",
    "import matplotlib.pylab as plt\n",
    "\n",
    "\n",
    "# Intitialization\n",
    "score12 = np.array([])\n",
    "\n",
    "numEst = np.arange(10,201,10) \n",
    "\n",
    "for est in numEst:\n",
    "\n",
    "\n",
    "    #The Classifier\n",
    "    Cl = RandomForestClassifier(n_estimators=est)\n",
    "\n",
    "    #Cross Validation\n",
    "    output12 = cross_validate(Cl, X, y, cv=kFold, scoring='f1_macro', return_estimator=True)\n",
    "\n",
    "    #Calculating the scores and show the results\n",
    "    print('The Number of Trees: ', est)\n",
    "    score12 = np.append(score12, output12['test_score'].mean())\n",
    "    print('The Mean Fit Time: ', np.mean(output12['fit_time']))\n",
    "    print('The Mean Score Time: ', np.mean(output12['score_time']))\n",
    "    print('The averaged F1 Score: ', np.mean(output12['test_score']))\n",
    "\n",
    "#Plot the results\n",
    "f = plt.figure()\n",
    "plt.plot(numEst, score12)\n",
    "plt.xlabel('Number of Trees in Random Forest')\n",
    "plt.ylabel('F1 Score')\n",
    "plt.title('The Cross-Validated F1 Scores in Random Forest')\n",
    "plt.show()\n",
    "f.savefig(\"RandFor-Scen12.png\", bbox_inches='tight', dpi=600)"
   ]
  },
  {
   "cell_type": "code",
   "execution_count": 15,
   "metadata": {},
   "outputs": [
    {
     "data": {
      "image/png": "[encoded data removed]",
      "text/plain": [
       "<Figure size 432x288 with 1 Axes>"
      ]
     },
     "metadata": {
      "needs_background": "light"
     },
     "output_type": "display_data"
    }
   ],
   "source": [
    "#Plot the results\n",
    "f = plt.figure()\n",
    "plt.plot(numEst, score12)\n",
    "plt.xlabel('Number of Trees')\n",
    "plt.ylabel('F1 Score')\n",
    "plt.title('The Cross-Validated F1 Scores in the Random Forest Method')\n",
    "plt.show()\n",
    "f.savefig(\"RandFor-Scen12.png\", bbox_inches='tight', dpi=600)"
   ]
  },
  {
   "cell_type": "code",
   "execution_count": 14,
   "metadata": {},
   "outputs": [
    {
     "name": "stdout",
     "output_type": "stream",
     "text": [
      "The Depth of the tree:  5\n",
      "The Mean Fit Time:  1.9088903665542603\n",
      "The Mean Score Time:  0.135140061378479\n",
      "The averaged F1 Score:  0.5086567219531792\n",
      "The Depth of the tree:  10\n",
      "The Mean Fit Time:  3.464712619781494\n",
      "The Mean Score Time:  0.13713288307189941\n",
      "The averaged F1 Score:  0.593758572939844\n",
      "The Depth of the tree:  15\n",
      "The Mean Fit Time:  4.7737414836883545\n",
      "The Mean Score Time:  0.1396113634109497\n",
      "The averaged F1 Score:  0.7026918418490463\n",
      "The Depth of the tree:  20\n",
      "The Mean Fit Time:  5.552141904830933\n",
      "The Mean Score Time:  0.1391303539276123\n",
      "The averaged F1 Score:  0.7695604644796409\n",
      "The Depth of the tree:  25\n",
      "The Mean Fit Time:  6.07374906539917\n",
      "The Mean Score Time:  0.14012467861175537\n",
      "The averaged F1 Score:  0.8014422708689575\n",
      "The Depth of the tree:  30\n",
      "The Mean Fit Time:  6.2278324365615845\n",
      "The Mean Score Time:  0.13912713527679443\n",
      "The averaged F1 Score:  0.8162830278099479\n",
      "The Depth of the tree:  35\n",
      "The Mean Fit Time:  6.401871085166931\n",
      "The Mean Score Time:  0.1401233673095703\n",
      "The averaged F1 Score:  0.8202972795909955\n",
      "The Depth of the tree:  40\n",
      "The Mean Fit Time:  6.390881896018982\n",
      "The Mean Score Time:  0.14012658596038818\n",
      "The averaged F1 Score:  0.8238018115974395\n",
      "The Depth of the tree:  45\n",
      "The Mean Fit Time:  6.382905602455139\n",
      "The Mean Score Time:  0.13964104652404785\n",
      "The averaged F1 Score:  0.8246172647478616\n",
      "The Depth of the tree:  50\n",
      "The Mean Fit Time:  6.410344481468201\n",
      "The Mean Score Time:  0.14411711692810059\n",
      "The averaged F1 Score:  0.8226772444522319\n",
      "The Depth of the tree:  55\n",
      "The Mean Fit Time:  6.392925500869751\n",
      "The Mean Score Time:  0.1401280164718628\n",
      "The averaged F1 Score:  0.8241552627853219\n",
      "The Depth of the tree:  60\n",
      "The Mean Fit Time:  6.387404561042786\n",
      "The Mean Score Time:  0.14012646675109863\n",
      "The averaged F1 Score:  0.8248658982944758\n",
      "The Depth of the tree:  65\n",
      "The Mean Fit Time:  6.386415719985962\n",
      "The Mean Score Time:  0.14060497283935547\n",
      "The averaged F1 Score:  0.8232629439551942\n",
      "The Depth of the tree:  70\n",
      "The Mean Fit Time:  6.375459432601929\n",
      "The Mean Score Time:  0.14062130451202393\n",
      "The averaged F1 Score:  0.8231114539293384\n",
      "The Depth of the tree:  75\n",
      "The Mean Fit Time:  6.435279965400696\n",
      "The Mean Score Time:  0.14112508296966553\n",
      "The averaged F1 Score:  0.8233313437996186\n",
      "The Depth of the tree:  80\n",
      "The Mean Fit Time:  6.459697365760803\n",
      "The Mean Score Time:  0.14213430881500244\n",
      "The averaged F1 Score:  0.8232011466583508\n",
      "The Depth of the tree:  85\n",
      "The Mean Fit Time:  6.381893157958984\n",
      "The Mean Score Time:  0.14213311672210693\n",
      "The averaged F1 Score:  0.8256231564397074\n",
      "The Depth of the tree:  90\n",
      "The Mean Fit Time:  6.3804343938827515\n",
      "The Mean Score Time:  0.14162862300872803\n",
      "The averaged F1 Score:  0.8262338682638324\n",
      "The Depth of the tree:  95\n",
      "The Mean Fit Time:  6.386412262916565\n",
      "The Mean Score Time:  0.13912570476531982\n",
      "The averaged F1 Score:  0.8222530581273793\n",
      "The Depth of the tree:  100\n",
      "The Mean Fit Time:  6.378931522369385\n",
      "The Mean Score Time:  0.14162039756774902\n",
      "The averaged F1 Score:  0.8247699774913582\n"
     ]
    },
    {
     "data": {
      "image/png": "[encoded data removed]",
      "text/plain": [
       "<Figure size 432x288 with 1 Axes>"
      ]
     },
     "metadata": {
      "needs_background": "light"
     },
     "output_type": "display_data"
    }
   ],
   "source": [
    " #Scenario 13\n",
    "from sklearn.tree import DecisionTreeClassifier\n",
    "from sklearn.model_selection import cross_validate\n",
    "import matplotlib.pylab as plt\n",
    "\n",
    "\n",
    "# Intitialization\n",
    "score13 = np.array([])\n",
    "\n",
    "numEst = np.arange(5,101,5) \n",
    "\n",
    "for est in numEst:\n",
    "\n",
    "\n",
    "    #The Classifier\n",
    "    Cl = DecisionTreeClassifier(max_depth=est)\n",
    "\n",
    "    #Cross Validation\n",
    "    output13 = cross_validate(Cl, X, y, cv=kFold, scoring='f1_macro', return_estimator=True)\n",
    "\n",
    "    #Calculating the scores and show the results\n",
    "    print('The Depth of the tree: ', est)\n",
    "    score13 = np.append(score13, output13['test_score'].mean())\n",
    "    print('The Mean Fit Time: ', np.mean(output13['fit_time']))\n",
    "    print('The Mean Score Time: ', np.mean(output13['score_time']))\n",
    "    print('The averaged F1 Score: ', np.mean(output13['test_score']))\n",
    "\n",
    "#Plot the results\n",
    "f = plt.figure()\n",
    "plt.plot(numEst, score13)\n",
    "plt.xlabel('The Depth of the Tree')\n",
    "plt.ylabel('F1 Score')\n",
    "plt.title('The Cross-Validated F1 Scores in Decision Tree')\n",
    "plt.show()\n",
    "f.savefig(\"DecTree-Scen13.png\", bbox_inches='tight', dpi=600)"
   ]
  },
  {
   "cell_type": "code",
   "execution_count": 17,
   "metadata": {},
   "outputs": [
    {
     "data": {
      "image/png": "[encoded data removed]",
      "text/plain": [
       "<Figure size 432x288 with 1 Axes>"
      ]
     },
     "metadata": {
      "needs_background": "light"
     },
     "output_type": "display_data"
    }
   ],
   "source": [
    "#Plot the results\n",
    "f = plt.figure()\n",
    "plt.plot(numEst, score13)\n",
    "plt.xlabel('Depth')\n",
    "plt.ylabel('F1 Score')\n",
    "plt.title('The Cross-Validated F1 Scores in the Decision Tree Method')\n",
    "plt.show()\n",
    "f.savefig(\"DecTree-Scen13.png\", bbox_inches='tight', dpi=600)"
   ]
  },
  {
   "cell_type": "code",
   "execution_count": null,
   "metadata": {},
   "outputs": [],
   "source": []
  }
 ],
 "metadata": {
  "kernelspec": {
   "display_name": "Python 3",
   "language": "python",
   "name": "python3"
  },
  "language_info": {
   "codemirror_mode": {
    "name": "ipython",
    "version": 3
   },
   "file_extension": ".py",
   "mimetype": "text/x-python",
   "name": "python",
   "nbconvert_exporter": "python",
   "pygments_lexer": "ipython3",
   "version": "3.8.5"
  }
 },
 "nbformat": 4,
 "nbformat_minor": 2
}
